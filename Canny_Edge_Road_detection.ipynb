{
 "cells": [
  {
   "cell_type": "code",
   "execution_count": 5,
   "metadata": {},
   "outputs": [
    {
     "data": {
      "text/plain": [
       "''"
      ]
     },
     "execution_count": 5,
     "metadata": {},
     "output_type": "execute_result"
    }
   ],
   "source": [
    "#####################################################\n",
    "'''\n",
    "SUMMARY:This code can be used to detect straight lines in the specified area.\n",
    "If you're using some other video do remember to update the area in the 'Streaming' function.\n",
    "\n",
    "IMPORTANT: To use this code error free you will need an active internet connection.\n",
    "'''\n"
   ]
  },
  {
   "cell_type": "code",
   "execution_count": 1,
   "metadata": {},
   "outputs": [],
   "source": [
    "#################\n",
    "import numpy as np\n",
    "import pandas as pd\n",
    "import matplotlib.pyplot as plt\n",
    "import cv2\n",
    "from vidgear.gears import CamGear\n",
    "###################"
   ]
  },
  {
   "cell_type": "code",
   "execution_count": 2,
   "metadata": {},
   "outputs": [],
   "source": [
    "def Streaming(URL):\n",
    "    #Read the url\n",
    "    stream = CamGear(source=url, stream_mode=True, logging=True).start() # YouTube Video URL as input\n",
    "\n",
    "    # infinite loop\n",
    "    while True:\n",
    "        \n",
    "        # read frames  \n",
    "        frame = stream.read()\n",
    "\n",
    "        # check if frame is None\n",
    "        if frame is None:\n",
    "            #if True break the infinite loop\n",
    "            break\n",
    "        # Grayscale the frame\n",
    "        gray = cv2.cvtColor(frame,cv2.COLOR_BGR2GRAY)\n",
    "        \n",
    "        #You could blur but the Canny edge algorithm takes care of this.\n",
    "        #blur = cv2.GaussianBlur(gray,(3,3),0)\n",
    "        canny = cv2.Canny(gray,50,150)\n",
    "        mask = np.zeros_like(canny)\n",
    "        \n",
    "        #Specifying the area in the video, depends on the video you're working on.\n",
    "        #Take a frame and find the dimensions\n",
    "        poly=np.array([(1150,720),(90,720),(600,390),(700,390)])\n",
    "        \n",
    "        cv2.fillConvexPoly(mask, poly,255)\n",
    "        masked_img = cv2.bitwise_and(canny, mask)\n",
    "        lines = cv2.HoughLinesP(masked_img, 2, np.pi/180,100, np.array([]),minLineLength=30,maxLineGap=5)\n",
    "        line_image = np.zeros_like(frame)\n",
    "        if lines is not None:\n",
    "            for line in lines:\n",
    "                x1,y1,x2,y2=line.reshape(4)\n",
    "                cv2.line(frame,(x1,y1),(x2,y2),(255,0,0),1)\n",
    "                cv2.imshow('Output File',frame)\n",
    "\n",
    "\n",
    "        # Show output window\n",
    "\n",
    "        key = cv2.waitKey(1) & 0xFF\n",
    "        # check for 'q' key-press\n",
    "        if key == ord(\"q\"):\n",
    "            #if 'q' key-pressed break out\n",
    "            break\n",
    "\n",
    "    cv2.destroyAllWindows()\n",
    "    # close output window\n",
    "\n",
    "    # safely close video stream.\n",
    "    stream.stop()"
   ]
  },
  {
   "cell_type": "code",
   "execution_count": 3,
   "metadata": {},
   "outputs": [],
   "source": [
    "##This is a video that I found on youtube, which is the closest to what I needed the footage to be\n",
    "url='https://www.youtube.com/watch?v=FO7lmpL2V14'"
   ]
  },
  {
   "cell_type": "code",
   "execution_count": 4,
   "metadata": {},
   "outputs": [
    {
     "name": "stderr",
     "output_type": "stream",
     "text": [
      "\u001b[01;36m13:33:09 :: \u001b[01;34mHelper\u001b[0m :: \u001b[01;35mWARNING\u001b[0m :: GStreamer not found!\u001b[0m\n",
      "\u001b[01;36m13:33:09 :: \u001b[01;34mHelper\u001b[0m :: \u001b[01;33mDEBUG\u001b[0m :: Selecting `best` resolution for streams.\u001b[0m\n",
      "\u001b[01;36m13:33:10 :: \u001b[01;34mCamGear\u001b[0m :: \u001b[01;32mINFO\u001b[0m :: Using Youtube-dl Backend\u001b[0m\n",
      "\u001b[01;36m13:33:12 :: \u001b[01;34mCamGear\u001b[0m :: \u001b[01;33mDEBUG\u001b[0m :: YouTube source ID: `FO7lmpL2V14`, Title: `GoPro Mounted on Car  & Driving Down a Mountain Road`, Quality: `best`\u001b[0m\n",
      "\u001b[01;36m13:33:12 :: \u001b[01;34mCamGear\u001b[0m :: \u001b[01;33mDEBUG\u001b[0m :: Enabling Threaded Queue Mode for the current video source!\u001b[0m\n",
      "\u001b[01;36m13:33:18 :: \u001b[01;34mCamGear\u001b[0m :: \u001b[01;33mDEBUG\u001b[0m :: Terminating processes.\u001b[0m\n"
     ]
    }
   ],
   "source": [
    "Streaming(url)"
   ]
  },
  {
   "cell_type": "code",
   "execution_count": null,
   "metadata": {},
   "outputs": [],
   "source": []
  }
 ],
 "metadata": {
  "kernelspec": {
   "display_name": "Python 3",
   "language": "python",
   "name": "python3"
  },
  "language_info": {
   "codemirror_mode": {
    "name": "ipython",
    "version": 3
   },
   "file_extension": ".py",
   "mimetype": "text/x-python",
   "name": "python",
   "nbconvert_exporter": "python",
   "pygments_lexer": "ipython3",
   "version": "3.7.7"
  }
 },
 "nbformat": 4,
 "nbformat_minor": 4
}
